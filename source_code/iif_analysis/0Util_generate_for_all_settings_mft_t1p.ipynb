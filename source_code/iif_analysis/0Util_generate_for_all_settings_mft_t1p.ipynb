{
 "cells": [
  {
   "cell_type": "markdown",
   "metadata": {},
   "source": [
    "# $T_{01}$ Calculator wrt Different Settings for Inc'd Interrupted Feeding\n",
    "### Threshold of 1%"
   ]
  },
  {
   "cell_type": "code",
   "execution_count": 1,
   "metadata": {},
   "outputs": [],
   "source": [
    "from script_single_setting_IQR_json_generator import single_setting_IQR_json_generator"
   ]
  },
  {
   "cell_type": "code",
   "execution_count": 2,
   "metadata": {},
   "outputs": [],
   "source": [
    "all_iif_tags = ['0p0', '0p05', '0p1', '0p15', '0p2'] # , '0p25']\n",
    "threshold, threshold_tag = 0.01, 't1p'\n",
    "iif_tag = '0p1'"
   ]
  },
  {
   "cell_type": "code",
   "execution_count": 3,
   "metadata": {},
   "outputs": [],
   "source": [
    "# create req'd directories if not exist\n",
    "from pathlib import Path\n",
    "Path(f'calculated_{threshold_tag}_iqr').mkdir(parents=True, exist_ok=True)\n",
    "for iif_tag in all_iif_tags:\n",
    "  Path(f'calculated_{threshold_tag}_iqr/'+iif_tag).mkdir(parents=True, exist_ok=True)"
   ]
  },
  {
   "cell_type": "markdown",
   "metadata": {},
   "source": [
    "MFT Strategies"
   ]
  },
  {
   "cell_type": "code",
   "execution_count": 4,
   "metadata": {},
   "outputs": [
    {
     "name": "stdout",
     "output_type": "stream",
     "text": [
      "Completed all sets for 0p0 iif.\n",
      "Completed all sets for 0p05 iif.\n",
      "Completed all sets for 0p1 iif.\n",
      "Completed all sets for 0p15 iif.\n",
      "Completed all sets for 0p2 iif.\n"
     ]
    }
   ],
   "source": [
    "strategy_tag = 'm'\n",
    "for iif_tag in all_iif_tags:\n",
    "  fpath_list = []\n",
    "  for setnum in [3,4,7,8,11,12]:\n",
    "    if iif_tag == '0p0':\n",
    "      fpath_list.append(\n",
    "        f'raw_data/{iif_tag}/set{setnum}_{strategy_tag}/monthly/set{setnum}{strategy_tag}_%smonthly_data_0.txt'\n",
    "      )\n",
    "    else:\n",
    "      fpath_list.append(\n",
    "        f'raw_data/{iif_tag}/set{setnum}_{strategy_tag}/monthly/set{setnum}{strategy_tag}f_%smonthly_data_0.txt'\n",
    "      )\n",
    "  single_setting_IQR_json_generator(\n",
    "    fpath_list, \n",
    "    f'calculated_{threshold_tag}_iqr/{iif_tag}/', \n",
    "    strategy_tag, \n",
    "    threshold\n",
    "  )\n",
    "  print(f'Completed all sets for {iif_tag} iif.')"
   ]
  },
  {
   "cell_type": "markdown",
   "metadata": {},
   "source": [
    "5-Yr Cyc Strategies"
   ]
  },
  {
   "cell_type": "code",
   "execution_count": 5,
   "metadata": {},
   "outputs": [
    {
     "name": "stdout",
     "output_type": "stream",
     "text": [
      "Completed all sets for 0p0 iif.\n",
      "Completed all sets for 0p05 iif.\n",
      "Completed all sets for 0p1 iif.\n",
      "Completed all sets for 0p15 iif.\n",
      "Completed all sets for 0p2 iif.\n"
     ]
    }
   ],
   "source": [
    "strategy_tag = 'c'\n",
    "for iif_tag in all_iif_tags:\n",
    "  fpath_list = []\n",
    "  for setnum in [3,4,7,8,11,12]:\n",
    "    if iif_tag == '0p0':\n",
    "      fpath_list.append(\n",
    "        f'raw_data/{iif_tag}/set{setnum}_{strategy_tag}/monthly/set{setnum}{strategy_tag}_%smonthly_data_0.txt'\n",
    "      )\n",
    "    else:\n",
    "      fpath_list.append(\n",
    "        f'raw_data/{iif_tag}/set{setnum}_{strategy_tag}/monthly/set{setnum}{strategy_tag}f_%smonthly_data_0.txt'\n",
    "      )\n",
    "  single_setting_IQR_json_generator(\n",
    "    fpath_list, \n",
    "    f'calculated_{threshold_tag}_iqr/{iif_tag}/', \n",
    "    strategy_tag, \n",
    "    threshold\n",
    "  )\n",
    "  print(f'Completed all sets for {iif_tag} iif.')"
   ]
  },
  {
   "cell_type": "markdown",
   "metadata": {},
   "source": [
    "AC Strategies"
   ]
  },
  {
   "cell_type": "code",
   "execution_count": 6,
   "metadata": {},
   "outputs": [
    {
     "name": "stdout",
     "output_type": "stream",
     "text": [
      "Completed all sets for 0p0 iif.\n",
      "Completed all sets for 0p05 iif.\n",
      "Completed all sets for 0p1 iif.\n",
      "Completed all sets for 0p15 iif.\n",
      "Completed all sets for 0p2 iif.\n"
     ]
    }
   ],
   "source": [
    "strategy_tag = 'ac'\n",
    "for iif_tag in all_iif_tags:\n",
    "  fpath_list = []\n",
    "  for setnum in [3,4,7,8,11,12]:\n",
    "    if iif_tag == '0p0':\n",
    "      fpath_list.append(\n",
    "        f'raw_data/{iif_tag}/set{setnum}_{strategy_tag}/monthly/set{setnum}{strategy_tag}_%smonthly_data_0.txt'\n",
    "      )\n",
    "    else:\n",
    "      fpath_list.append(\n",
    "        f'raw_data/{iif_tag}/set{setnum}_{strategy_tag}/monthly/set{setnum}{strategy_tag}f_%smonthly_data_0.txt'\n",
    "      )\n",
    "  single_setting_IQR_json_generator(\n",
    "    fpath_list, \n",
    "    f'calculated_{threshold_tag}_iqr/{iif_tag}/', \n",
    "    strategy_tag, \n",
    "    threshold\n",
    "  )\n",
    "  print(f'Completed all sets for {iif_tag} iif.')"
   ]
  },
  {
   "cell_type": "code",
   "execution_count": null,
   "metadata": {},
   "outputs": [],
   "source": []
  }
 ],
 "metadata": {
  "kernelspec": {
   "display_name": "Python 3",
   "language": "python",
   "name": "python3"
  },
  "language_info": {
   "codemirror_mode": {
    "name": "ipython",
    "version": 3
   },
   "file_extension": ".py",
   "mimetype": "text/x-python",
   "name": "python",
   "nbconvert_exporter": "python",
   "pygments_lexer": "ipython3",
   "version": "3.8.5"
  }
 },
 "nbformat": 4,
 "nbformat_minor": 4
}
